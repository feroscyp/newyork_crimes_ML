{
 "cells": [
  {
   "cell_type": "markdown",
   "id": "6d11ccb9",
   "metadata": {},
   "source": [
    "## Autor: Fernando Ordinola"
   ]
  },
  {
   "cell_type": "markdown",
   "id": "a1a4886e",
   "metadata": {},
   "source": [
    "## Preliminares"
   ]
  },
  {
   "cell_type": "markdown",
   "id": "3e00b9e9",
   "metadata": {},
   "source": [
    "> __Formulación del problema__:  El problema planteado es un problema de clasificación binaria supervisada donde se nos pide determinar si un procedimiento desencadena en arresto contando con variables de diferente naturaleza como discretas y continuas y con posibles variables que revelan de alguna forma cual fue el resultado por lo que representan un problema ya que en un caso hipotetico real, no se tendría esa ventaja, y nuestro modelo debe ser capaz de generalizar con la data que se tendría en un caso real.\n",
    ">\n",
    ">\n",
    "> __Objetivo__: Lograr determinar con un alto nivel de certeza si un procedimiento dada la naturaleza de su procedimiento desecandenará en un arresto.\n",
    ">\n",
    ">\n",
    "> __Implementación de la solución__: Se implementarán modelos de clasificación supervisada con un preprocesamiento previo de los datos que conllevará limpieza de datos, hallazgo de insights, corrección de errores en la data etc.\n",
    "\n",
    "> __Métricas de desempeño__\n",
    ">> - Exactitud\n",
    ">> - Precisión\n",
    ">> - Recall\n",
    ">> - F1 Score (Se destacará ya que como se pudo observar la V.O posee un desbalance notable)\n",
    "\n",
    "> __Modelos a utilizar__\n",
    ">> - Logistic Regression\n",
    ">> - Random Forest\n",
    ">> - Gradient BoostingClassifier\n",
    ">> - SVC\n",
    ">> - DecisionTree\n",
    "\n",
    "> __Estrategia de división de muestras__: Se usará train_test_split de la libreria Scikit-learn, La idea detrás de esta división es que el modelo se entrene con el conjunto de datos de entrenamiento y luego se pruebe con el conjunto de datos de prueba para medir su capacidad para generalizar a nuevos datos. De esta manera, podemos evitar el sobreajuste y la subestimación del modelo.\n",
    "\n",
    "> __Tipo de preprocesamiento a utilizar__: El preprocesamiento que se aplicará consistirá principalmente de limpieza de datos, corrigiendo o eliminando datos notablemente atipicos que no se consideren dentro de lo usual, datos faltantes, erroneos, etc. recodificación de datos según sea necesario."
   ]
  },
  {
   "cell_type": "markdown",
   "id": "18b6b7db",
   "metadata": {},
   "source": [
    "## Aspectos Computacionales"
   ]
  },
  {
   "cell_type": "markdown",
   "id": "4c73afe0",
   "metadata": {},
   "source": [
    ">Python 3.9.12\n",
    "\n",
    "> Librerías a utilizar\n",
    "> - pandas 1.4.2\n",
    "> - numpy 1.21.5\n",
    "> - matplotlib 3.5.1\n",
    "> - seaborn 0.11.2\n",
    "> - sklearn 1.0.2\n",
    "> - joblib 1.2.0\n",
    "> - regex  2022.3.15\n",
    "> - geopandas 0.12.2 \n",
    "> - shapely 2.0.1\n",
    "\n",
    "> Módulo propio con funciones utilitarias: __functions.py__"
   ]
  },
  {
   "cell_type": "code",
   "execution_count": 93,
   "id": "ba5b745c",
   "metadata": {},
   "outputs": [],
   "source": [
    "import random\n",
    "import re\n",
    "from functools import reduce\n",
    "from itertools import combinations\n",
    "\n",
    "import numpy as np\n",
    "import pandas as pd\n",
    "import seaborn as sns\n",
    "import matplotlib.pyplot as plt\n",
    "import missingno as msngo\n",
    "\n",
    "from sklearn.feature_extraction.text import CountVectorizer\n",
    "from sklearn.naive_bayes import MultinomialNB\n",
    "from sklearn.ensemble import RandomForestClassifier\n",
    "from sklearn.metrics import accuracy_score, confusion_matrix, classification_report\n",
    "from sklearn.preprocessing import OneHotEncoder, StandardScaler\n",
    "from sklearn.model_selection import train_test_split, StratifiedKFold, cross_val_score, GridSearchCV\n",
    "from sklearn.ensemble import GradientBoostingClassifier\n",
    "from sklearn.linear_model import LogisticRegression\n",
    "from sklearn.naive_bayes import BernoulliNB\n",
    "from sklearn.svm import LinearSVC\n",
    "\n",
    "import functions as pyfuncs\n",
    "import warnings\n",
    "warnings.filterwarnings(\"ignore\")\n",
    "\n",
    "plt.rcParams['figure.figsize'] = (10,7)"
   ]
  },
  {
   "cell_type": "code",
   "execution_count": 2,
   "id": "0c9dcb9a",
   "metadata": {},
   "outputs": [],
   "source": [
    "df = pd.read_csv('2009_1perc.csv').drop('Unnamed: 0', axis=1)\n",
    "df_test = pd.read_csv('2010_1perc.csv').drop('Unnamed: 0', axis=1)"
   ]
  },
  {
   "cell_type": "markdown",
   "id": "4a38503e",
   "metadata": {},
   "source": [
    "# Pre procesamiento de variables."
   ]
  },
  {
   "cell_type": "markdown",
   "id": "c131c34b",
   "metadata": {},
   "source": [
    "\n",
    "\n",
    "<html>_________________________________________________________________________________________________________________________ </html>"
   ]
  },
  {
   "cell_type": "markdown",
   "id": "c83dd5e7",
   "metadata": {},
   "source": [
    "__Se elimina la variable arstoff__ ya que esta hace referencia a la razón de arrestos.\n",
    "__Se elimina la variable detailcm__ ya que especifica datos posteriores al procedimiento, dando razón del arresto.\n",
    "__Se elimina la variable offverb__ verbal statement dadó por el oficial"
   ]
  },
  {
   "cell_type": "code",
   "execution_count": 3,
   "id": "e28800aa",
   "metadata": {},
   "outputs": [],
   "source": [
    "arrest_vars = ['arstoffn', 'detailcm', 'offverb']\n",
    "df.drop(columns=arrest_vars, axis=1, inplace=True)\n",
    "df_test.drop(columns=arrest_vars, axis=1, inplace=True)"
   ]
  },
  {
   "cell_type": "markdown",
   "id": "9cc10ec8",
   "metadata": {},
   "source": [
    "<b>Variables del dataset que contienen solo un valor en todas las filas del dataset</b>, incluyendo las que contienen vacio ' ' en todo el dataset, estas se eliminarán ya que se consideran variables constantes y pueden causar problemas de colinealidad o sobreajuste, además se reduciría dimensionalidad del problema y posiblemente mejorar el rendimiento del modelo"
   ]
  },
  {
   "cell_type": "code",
   "execution_count": 4,
   "id": "159f9733",
   "metadata": {
    "scrolled": false
   },
   "outputs": [
    {
     "name": "stdout",
     "output_type": "stream",
     "text": [
      "Columna: year, Valor: 2009, Frecuencia: 5812\n",
      "Columna: compyear, Valor: 0, Frecuencia: 5812\n",
      "Columna: comppct, Valor: 0, Frecuencia: 5812\n",
      "Columna: adtlrept, Valor: N, Frecuencia: 5812\n",
      "Columna: machgun, Valor: N, Frecuencia: 5812\n",
      "Columna: othfeatr, Valor:  , Frecuencia: 5812\n",
      "Columna: addrtyp, Valor: L, Frecuencia: 5812\n",
      "Columna: rescode, Valor:  , Frecuencia: 5812\n",
      "Columna: premtype, Valor:  , Frecuencia: 5812\n",
      "Columna: aptnum, Valor:  , Frecuencia: 5812\n",
      "Columna: state, Valor:  , Frecuencia: 5812\n",
      "Columna: zip, Valor:  , Frecuencia: 5812\n",
      "Columna: dettypcm, Valor: CM, Frecuencia: 5812\n",
      "Columna: linecm, Valor: 1, Frecuencia: 5812\n"
     ]
    }
   ],
   "source": [
    "one_value_columns = []\n",
    "\n",
    "for col in df:\n",
    "    if len(df[col].value_counts().keys()) == 1:\n",
    "        one_value_columns.append(col)\n",
    "        print(f'Columna: {col}, Valor: {df[col].value_counts().keys()[0]}, Frecuencia: {df[col].value_counts().values[0]}')"
   ]
  },
  {
   "cell_type": "code",
   "execution_count": 5,
   "id": "10b17c2f",
   "metadata": {},
   "outputs": [],
   "source": [
    "df.drop(columns=one_value_columns, axis=1, \n",
    "        inplace=True) #eliminamos todas las variables que contienen 1 solo valor en todo el df\n",
    "\n",
    "df_test.drop(columns=one_value_columns, axis=1, \n",
    "        inplace=True) #eliminamos todas las variables que contienen 1 solo valor en todo el df"
   ]
  },
  {
   "cell_type": "markdown",
   "id": "57b519aa",
   "metadata": {},
   "source": [
    "> Transformamos todas las columnas tipo object que contengan la clase 'Y' o 'N' a binario"
   ]
  },
  {
   "cell_type": "code",
   "execution_count": 6,
   "id": "60df1e40",
   "metadata": {
    "scrolled": true
   },
   "outputs": [
    {
     "name": "stdout",
     "output_type": "stream",
     "text": [
      "Cantidad de columnas recodificadas binarias que eran 'Y' o 'N': 56\n"
     ]
    }
   ],
   "source": [
    "count_ = 0\n",
    "for col in df.select_dtypes('O'):\n",
    "    if len(df[col].value_counts()) == 2:\n",
    "        if 'N' and 'Y' in list(df[col].value_counts().keys()):\n",
    "            count_ += 1\n",
    "            df[col] = np.where(df[col] == 'Y', 1, 0)\n",
    "            df_test[col] = np.where(df_test[col] == 'Y', 1, 0)\n",
    "print(f\"Cantidad de columnas recodificadas binarias que eran 'Y' o 'N': {count_}\")"
   ]
  },
  {
   "cell_type": "markdown",
   "id": "ca05355c",
   "metadata": {},
   "source": [
    "> Ya las variables tipo object que quedan, como se puede ver también son binarias, pero en vez de contener \"Y\" o \"N\" contienen \"A\" o \"1\", posteriormente se pasaran a 1 o 0, con ohe."
   ]
  },
  {
   "cell_type": "markdown",
   "id": "c6ceabf7",
   "metadata": {},
   "source": [
    "Transformamos estas columnas númericas que venian como tipo object, y transformamos sus valores nulos a 0."
   ]
  },
  {
   "cell_type": "code",
   "execution_count": 7,
   "id": "fe54573f",
   "metadata": {},
   "outputs": [],
   "source": [
    "pyfuncs.clean_numeric_cols(df, ['xcoord', 'ycoord', 'post', 'beat'])\n",
    "pyfuncs.clean_numeric_cols(df_test, ['xcoord', 'ycoord', 'post', 'beat'])"
   ]
  },
  {
   "cell_type": "code",
   "execution_count": 8,
   "id": "1b82d861",
   "metadata": {},
   "outputs": [],
   "source": [
    "df_test.dropna(inplace=True) #Se eliminaron 2 filas por valores nulos"
   ]
  },
  {
   "cell_type": "code",
   "execution_count": 9,
   "id": "6da12fc7",
   "metadata": {},
   "outputs": [
    {
     "name": "stdout",
     "output_type": "stream",
     "text": [
      "crimsusp 388\n",
      "sumoffen 192\n",
      "premname 562\n",
      "addrnum 1431\n",
      "stname 977\n",
      "stinter 1595\n",
      "crossst 1686\n"
     ]
    }
   ],
   "source": [
    "for col in df.select_dtypes('O'):\n",
    "    if len(df[col].value_counts()) > 100:  \n",
    "        print(col, len(df[col].value_counts()))\n",
    "        df.drop(columns=col, axis=1, inplace=True)\n",
    "        df_test.drop(columns=col, axis=1, inplace=True)"
   ]
  },
  {
   "cell_type": "code",
   "execution_count": 10,
   "id": "cd8e37ee",
   "metadata": {},
   "outputs": [],
   "source": [
    "pyfuncs.clean_columns(df, {'officrid': 1, 'offshld': 1, 'sector': 'U', 'trhsloc': 'U'})\n",
    "pyfuncs.clean_columns(df_test, {'officrid': 1, 'offshld': 1, 'sector': 'U', 'trhsloc': 'U'})"
   ]
  },
  {
   "cell_type": "markdown",
   "id": "2e0f91d0",
   "metadata": {},
   "source": [
    "# EDA (Arstmade)"
   ]
  },
  {
   "cell_type": "code",
   "execution_count": 11,
   "id": "5fd4bdde",
   "metadata": {},
   "outputs": [],
   "source": [
    "def couna_norm(df, column, w, h):\n",
    "    fig, ax = plt.subplots(figsize= (w,h))\n",
    "\n",
    "    sns.countplot(data=df, x=column)\n",
    "\n",
    "    total = float(len(df))\n",
    "    for p in ax.patches:\n",
    "        height = p.get_height()\n",
    "        ax.annotate('{:.1f}%'.format((height/total)*100), xy=(p.get_x() + p.get_width() / 2., height),\n",
    "                    xytext=(0, 5), textcoords='offset points', ha='center', va='bottom', \n",
    "                    fontsize=12, fontweight='bold')"
   ]
  },
  {
   "cell_type": "code",
   "execution_count": 12,
   "id": "1987956a",
   "metadata": {},
   "outputs": [
    {
     "data": {
      "image/png": "[encoded data removed]",
      "text/plain": [
       "<Figure size 720x504 with 1 Axes>"
      ]
     },
     "metadata": {
      "needs_background": "light"
     },
     "output_type": "display_data"
    }
   ],
   "source": [
    "pyfuncs.countplot_with_percentages(df, 'arstmade', 'Distribución de los arrestos en el dataset')"
   ]
  },
  {
   "cell_type": "code",
   "execution_count": 13,
   "id": "60ed0e47",
   "metadata": {
    "scrolled": false
   },
   "outputs": [
    {
     "data": {
      "image/png": "[encoded data removed]",
      "text/plain": [
       "<Figure size 720x504 with 1 Axes>"
      ]
     },
     "metadata": {
      "needs_background": "light"
     },
     "output_type": "display_data"
    }
   ],
   "source": [
    "sns.countplot(data=df, x='race', hue='arstmade', order=df.race.value_counts().index)\n",
    "plt.title('Arrestos por raza');"
   ]
  },
  {
   "cell_type": "code",
   "execution_count": 14,
   "id": "850a03b3",
   "metadata": {
    "scrolled": false
   },
   "outputs": [
    {
     "data": {
      "image/png": "[encoded data removed]",
      "text/plain": [
       "<Figure size 720x504 with 1 Axes>"
      ]
     },
     "metadata": {
      "needs_background": "light"
     },
     "output_type": "display_data"
    }
   ],
   "source": [
    "sns.countplot(data = df, x = 'sb_other', hue = 'arstmade');"
   ]
  },
  {
   "cell_type": "code",
   "execution_count": 15,
   "id": "d9d5c08d",
   "metadata": {
    "scrolled": false
   },
   "outputs": [
    {
     "data": {
      "image/png": "[encoded data removed]",
      "text/plain": [
       "<Figure size 720x504 with 1 Axes>"
      ]
     },
     "metadata": {
      "needs_background": "light"
     },
     "output_type": "display_data"
    }
   ],
   "source": [
    "sns.countplot(data = df, x = 'arstmade', hue = 'searched');"
   ]
  },
  {
   "cell_type": "code",
   "execution_count": 16,
   "id": "0b452f68",
   "metadata": {},
   "outputs": [
    {
     "data": {
      "image/png": "[encoded data removed]",
      "text/plain": [
       "<Figure size 720x504 with 1 Axes>"
      ]
     },
     "metadata": {
      "needs_background": "light"
     },
     "output_type": "display_data"
    }
   ],
   "source": [
    "sns.countplot(data = df, x = 'arstmade', hue = 'pf_hcuff');"
   ]
  },
  {
   "cell_type": "markdown",
   "id": "95c0622d",
   "metadata": {},
   "source": [
    "# Feature Engineering"
   ]
  },
  {
   "cell_type": "markdown",
   "id": "864042b0",
   "metadata": {},
   "source": [
    "Se ha detectado un patrón en los datos que sugiere que cuando se cumplen ciertos requisitos, hay una alta probabilidad de que se produzca un arresto. Estos requisitos incluyen ser de raza negra, tener más de 15 años y portar un tipo de arma distinto a las armas de fuego o aquellas descritas en otras variables.\n",
    "\n",
    "Si bien no tiene mucha frecuencia en los datos este comportamiento, cuando sucede tiende a ser arresto siempre"
   ]
  },
  {
   "cell_type": "code",
   "execution_count": 17,
   "id": "e9c9f199",
   "metadata": {},
   "outputs": [],
   "source": [
    "df['othrweap_black_15'] = np.where((df['othrweap'] == 1) & (df['arstmade'] == 1) & (df['race'] == 'B') & (df['age'] > 15), 1, 0)\n",
    "df_test['othrweap_black_15'] = np.where((df_test['othrweap'] == 1) & (df_test['arstmade'] == 1) & (df_test['race'] == 'B') & (df_test['age'] > 15), 1, 0)"
   ]
  },
  {
   "cell_type": "markdown",
   "id": "4efd9525",
   "metadata": {},
   "source": [
    "Estas 3 variables tenian baja frecuencia, pero cada vez que sucedian era arresto en todas las ocasiones, por lo que se decide unir estas 3 en una sola variable, y llamarle \"custom_var\"."
   ]
  },
  {
   "cell_type": "code",
   "execution_count": 18,
   "id": "313925ea",
   "metadata": {},
   "outputs": [],
   "source": [
    "collected_variables = ['pistol', 'riflshot', 'asltweap']\n",
    "pyfuncs.create_mask(df, df_test, 'custom_var', collected_variables)"
   ]
  },
  {
   "cell_type": "markdown",
   "id": "89099dc3",
   "metadata": {},
   "source": [
    "\"pf_hcuff\" era una variable con bastante correlación y una frecuencia considerable, la que correspondia a las variables de la familia de pf_ que corresponde a variables asociadas con violencia, luego se contaba con \"pf_baton\" que si bien tenia poca frecuencia en el dataset tenia una alta correlación con arstmade, por lo que se adhiere esa variable a pf_hcuff y se crea una nueva variable pf_valuable_vars"
   ]
  },
  {
   "cell_type": "code",
   "execution_count": 19,
   "id": "0fc5b0cc",
   "metadata": {},
   "outputs": [],
   "source": [
    "pf_valuable_vars = ['pf_hcuff', 'pf_baton']\n",
    "pyfuncs.create_mask(df, df_test, 'pf_valuable_vars', pf_valuable_vars)\n",
    "df.drop(columns=pf_valuable_vars, axis=1, inplace=True)"
   ]
  },
  {
   "cell_type": "markdown",
   "id": "d2287095",
   "metadata": {},
   "source": [
    "Para concluir, se agregan dos variables con poca frecuencia a la variable con mayor correlación, lo que se denomina como \"sb_other_plus\". Al utilizar esta metodología, se emplean variables que, aunque tienen baja frecuencia en el conjunto de datos, ayudan a mejorar el desempeño de los modelos en términos de recall para la clase 1 y permiten una mayor precisión en la predicción de situaciones en las que se producirá un arresto."
   ]
  },
  {
   "cell_type": "code",
   "execution_count": 20,
   "id": "109aee47",
   "metadata": {},
   "outputs": [],
   "source": [
    "sb_recod = ['sb_other', 'custom_var', 'othrweap_black_15']\n",
    "pyfuncs.create_mask(df, df_test, 'sb_other_plus', sb_recod)\n",
    "df.drop(columns=sb_recod, axis=1, inplace=True)"
   ]
  },
  {
   "cell_type": "markdown",
   "id": "960e5abf",
   "metadata": {},
   "source": [
    "## Preparación de conjuntos"
   ]
  },
  {
   "cell_type": "code",
   "execution_count": 49,
   "id": "32ef8d09",
   "metadata": {},
   "outputs": [],
   "source": [
    "corr_vars = list(df.corr()['arstmade'].abs().sort_values(ascending=False).head(6).keys())[1:]"
   ]
  },
  {
   "cell_type": "code",
   "execution_count": 50,
   "id": "0a275125",
   "metadata": {},
   "outputs": [],
   "source": [
    "X_train = df.drop(columns='arstmade', axis=1)[corr_vars]\n",
    "X_test = df_test.drop(columns='arstmade', axis=1)[corr_vars]\n",
    "\n",
    "y_train = df['arstmade']\n",
    "y_test = df_test['arstmade']"
   ]
  },
  {
   "cell_type": "code",
   "execution_count": 51,
   "id": "b182f4c6",
   "metadata": {},
   "outputs": [],
   "source": [
    "X_train = pyfuncs.scale_and_ohe(X_train)"
   ]
  },
  {
   "cell_type": "code",
   "execution_count": 52,
   "id": "6ca576ef",
   "metadata": {},
   "outputs": [],
   "source": [
    "X_test = pyfuncs.scale_and_ohe(X_test)"
   ]
  },
  {
   "cell_type": "markdown",
   "id": "8f5c26e1",
   "metadata": {},
   "source": [
    "## Random forest (Arstmade)"
   ]
  },
  {
   "cell_type": "code",
   "execution_count": 53,
   "id": "53f03193",
   "metadata": {},
   "outputs": [],
   "source": [
    "rf = RandomForestClassifier(random_state=98)"
   ]
  },
  {
   "cell_type": "code",
   "execution_count": 63,
   "id": "03d4c85d",
   "metadata": {
    "scrolled": false
   },
   "outputs": [
    {
     "name": "stdout",
     "output_type": "stream",
     "text": [
      "{'max_depth': 4, 'n_estimators': 50}\n"
     ]
    }
   ],
   "source": [
    "param_grid = {'max_depth': [2,4,5,6,8,9,10], 'n_estimators': [50,100,150,200,250]}\n",
    "\n",
    "cv_strat = StratifiedKFold(n_splits=5, shuffle=True, random_state=42)\n",
    "\n",
    "grid = GridSearchCV(rf, param_grid, cv=cv_strat, scoring='f1', n_jobs=-1)\n",
    "\n",
    "grid.fit(X_train, y_train)\n",
    "\n",
    "print(grid.best_params_)"
   ]
  },
  {
   "cell_type": "markdown",
   "id": "20b29f76",
   "metadata": {},
   "source": [
    "> Se utiliza StratifiedKfold, dado el desbalance de la variable objetivo, esto ayuda a tener una misma proporción de la clase en cada conjunto, plus también ayuda a disminuir el tiempo de busqueda de hiper parametros."
   ]
  },
  {
   "cell_type": "code",
   "execution_count": 55,
   "id": "dbf5befe",
   "metadata": {},
   "outputs": [],
   "source": [
    "rf = RandomForestClassifier(random_state=98, max_depth= 4, n_estimators= 50)"
   ]
  },
  {
   "cell_type": "code",
   "execution_count": 56,
   "id": "9434eb02",
   "metadata": {
    "scrolled": false
   },
   "outputs": [
    {
     "data": {
      "text/plain": [
       "RandomForestClassifier(max_depth=4, n_estimators=50, random_state=98)"
      ]
     },
     "execution_count": 56,
     "metadata": {},
     "output_type": "execute_result"
    }
   ],
   "source": [
    "rf.fit(X_train, y_train)"
   ]
  },
  {
   "cell_type": "code",
   "execution_count": 57,
   "id": "0735cde3",
   "metadata": {
    "scrolled": true
   },
   "outputs": [
    {
     "name": "stdout",
     "output_type": "stream",
     "text": [
      "sb_other_plus: 0.455\n",
      "searched: 0.185\n",
      "pf_valuable_vars: 0.163\n",
      "contrabn: 0.160\n",
      "rf_othsw: 0.038\n"
     ]
    }
   ],
   "source": [
    "importances = rf.feature_importances_\n",
    "feature_importances = [(importance, feature) for feature, importance in zip(rf.feature_names_in_, importances)]\n",
    "\n",
    "feature_importances = sorted(feature_importances, reverse=True)\n",
    "\n",
    "for importance, feature in feature_importances[:500]:\n",
    "    print(f'{feature}: {importance:.3f}')"
   ]
  },
  {
   "cell_type": "code",
   "execution_count": 58,
   "id": "208713fd",
   "metadata": {},
   "outputs": [],
   "source": [
    "y_pred = rf.predict(X_test)"
   ]
  },
  {
   "cell_type": "code",
   "execution_count": 59,
   "id": "a4ef031f",
   "metadata": {
    "scrolled": false
   },
   "outputs": [
    {
     "name": "stdout",
     "output_type": "stream",
     "text": [
      "\n",
      "Reporte de Clasificación:\n",
      "              precision    recall  f1-score   support\n",
      "\n",
      "           0     0.9752    0.9865    0.9808      5611\n",
      "           1     0.7731    0.6475    0.7048       400\n",
      "\n",
      "    accuracy                         0.9639      6011\n",
      "   macro avg     0.8741    0.8170    0.8428      6011\n",
      "weighted avg     0.9617    0.9639    0.9624      6011\n",
      "\n"
     ]
    }
   ],
   "source": [
    "print(\"\\nReporte de Clasificación:\")\n",
    "print(classification_report(y_test, y_pred, digits=4))"
   ]
  },
  {
   "cell_type": "markdown",
   "id": "92719ff5",
   "metadata": {},
   "source": [
    "> Es posible subir aún más la precisión de la clase 1 pero como consecuencia bajando el recall, esto se haría agregando más variables al modelo, pero en este caso especifico por criterio se elige tener un equilibrio donde el recall no se disminuya tanto por la naturaleza del problema, ya que cada vez que el procedimiento fuera a concretar en arresto queremos fallar lo menos posible cuando vaya a pasar un arresto."
   ]
  },
  {
   "cell_type": "markdown",
   "id": "2cbf2756",
   "metadata": {},
   "source": [
    "## Gradient Boosting (Arstmade)"
   ]
  },
  {
   "cell_type": "code",
   "execution_count": 440,
   "id": "7f748d6a",
   "metadata": {},
   "outputs": [],
   "source": [
    "param_grid_gbl = {\n",
    "    'learning_rate': [0.05, 0.1, 0.2],\n",
    "    'max_depth': [3, 5, 7],\n",
    "    'n_estimators': [50, 100, 150],\n",
    "}"
   ]
  },
  {
   "cell_type": "code",
   "execution_count": 441,
   "id": "f36a067a",
   "metadata": {},
   "outputs": [],
   "source": [
    "gbl = GradientBoostingClassifier(random_state=1)"
   ]
  },
  {
   "cell_type": "code",
   "execution_count": 442,
   "id": "b87690f1",
   "metadata": {},
   "outputs": [],
   "source": [
    "grid_search = GridSearchCV(estimator=gbl, param_grid=param_grid_gbl, cv=5, scoring='f1')"
   ]
  },
  {
   "cell_type": "code",
   "execution_count": 443,
   "id": "e7eb56ae",
   "metadata": {},
   "outputs": [
    {
     "data": {
      "text/plain": [
       "GridSearchCV(cv=5, estimator=GradientBoostingClassifier(random_state=1),\n",
       "             param_grid={'learning_rate': [0.05, 0.1, 0.2],\n",
       "                         'max_depth': [3, 5, 7],\n",
       "                         'n_estimators': [50, 100, 150]},\n",
       "             scoring='f1')"
      ]
     },
     "execution_count": 443,
     "metadata": {},
     "output_type": "execute_result"
    }
   ],
   "source": [
    "grid_search.fit(X_train, y_train)"
   ]
  },
  {
   "cell_type": "code",
   "execution_count": 444,
   "id": "ed1c636e",
   "metadata": {},
   "outputs": [
    {
     "data": {
      "text/plain": [
       "GradientBoostingClassifier(learning_rate=0.05, n_estimators=50, random_state=1)"
      ]
     },
     "execution_count": 444,
     "metadata": {},
     "output_type": "execute_result"
    }
   ],
   "source": [
    "best_model = GradientBoostingClassifier(**grid_search.best_params_, random_state=1)\n",
    "best_model"
   ]
  },
  {
   "cell_type": "code",
   "execution_count": 445,
   "id": "853a73ec",
   "metadata": {},
   "outputs": [
    {
     "data": {
      "text/plain": [
       "GradientBoostingClassifier(learning_rate=0.05, n_estimators=50, random_state=1)"
      ]
     },
     "execution_count": 445,
     "metadata": {},
     "output_type": "execute_result"
    }
   ],
   "source": [
    "best_model.fit(X_train, y_train)"
   ]
  },
  {
   "cell_type": "code",
   "execution_count": 446,
   "id": "fd3096a4",
   "metadata": {},
   "outputs": [],
   "source": [
    "predictions_gbl = best_model.predict(X_test)"
   ]
  },
  {
   "cell_type": "code",
   "execution_count": 447,
   "id": "2889874b",
   "metadata": {},
   "outputs": [
    {
     "name": "stdout",
     "output_type": "stream",
     "text": [
      "Mejores hiperparámetros: {'learning_rate': 0.05, 'max_depth': 3, 'n_estimators': 50}\n"
     ]
    }
   ],
   "source": [
    "print('Mejores hiperparámetros:', grid_search.best_params_)"
   ]
  },
  {
   "cell_type": "code",
   "execution_count": 448,
   "id": "6869d597",
   "metadata": {
    "scrolled": false
   },
   "outputs": [
    {
     "name": "stdout",
     "output_type": "stream",
     "text": [
      "\n",
      "Reporte de Clasificación:\n",
      "              precision    recall  f1-score   support\n",
      "\n",
      "           0     0.9752    0.9865    0.9808      5611\n",
      "           1     0.7731    0.6475    0.7048       400\n",
      "\n",
      "    accuracy                         0.9639      6011\n",
      "   macro avg     0.8741    0.8170    0.8428      6011\n",
      "weighted avg     0.9617    0.9639    0.9624      6011\n",
      "\n"
     ]
    }
   ],
   "source": [
    "print(\"\\nReporte de Clasificación:\")\n",
    "print(classification_report(y_test, predictions_gbl, digits=4))"
   ]
  },
  {
   "cell_type": "markdown",
   "id": "8c1b2252",
   "metadata": {},
   "source": [
    "# Red neuronal (Arstmade)"
   ]
  },
  {
   "cell_type": "code",
   "execution_count": 64,
   "id": "67a177c0",
   "metadata": {},
   "outputs": [],
   "source": [
    "import tensorflow as tf\n",
    "from keras.wrappers.scikit_learn import KerasClassifier\n",
    "from keras.models import Sequential\n",
    "from keras.layers import Dense"
   ]
  },
  {
   "cell_type": "code",
   "execution_count": 68,
   "id": "71f37408",
   "metadata": {},
   "outputs": [],
   "source": [
    "def create_model():\n",
    "    model = Sequential() # modelo de red neuronal secuencial\n",
    "    \n",
    "    # Capa de entrada con 60 neuronas\n",
    "    model.add(Dense(60, input_dim=5, activation='relu'))\n",
    "    \n",
    "    # Capa de salida con una neurona y función de activación sigmoide\n",
    "    model.add(Dense(1, activation='sigmoid'))\n",
    "    \n",
    "    # Compilación del modelo con función de pérdida binary_crossentropy y optimizador Adam\n",
    "    model.compile(loss='binary_crossentropy', optimizer='adam', metrics=['accuracy'])\n",
    "    \n",
    "    return model\n"
   ]
  },
  {
   "cell_type": "code",
   "execution_count": 101,
   "id": "af8c283d",
   "metadata": {
    "scrolled": true
   },
   "outputs": [],
   "source": [
    "nn = KerasClassifier(build_fn=create_model)"
   ]
  },
  {
   "cell_type": "code",
   "execution_count": 70,
   "id": "45a2d94e",
   "metadata": {
    "scrolled": false
   },
   "outputs": [
    {
     "name": "stdout",
     "output_type": "stream",
     "text": [
      "Epoch 1/20\n",
      "91/91 [==============================] - 1s 2ms/step - loss: 0.4808 - accuracy: 0.9448\n",
      "Epoch 2/20\n",
      "91/91 [==============================] - 0s 2ms/step - loss: 0.2076 - accuracy: 0.9640\n",
      "Epoch 3/20\n",
      "91/91 [==============================] - 0s 2ms/step - loss: 0.1321 - accuracy: 0.9649\n",
      "Epoch 4/20\n",
      "91/91 [==============================] - 0s 2ms/step - loss: 0.1186 - accuracy: 0.9666\n",
      "Epoch 5/20\n",
      "91/91 [==============================] - 0s 1ms/step - loss: 0.1168 - accuracy: 0.9668\n",
      "Epoch 6/20\n",
      "91/91 [==============================] - 0s 2ms/step - loss: 0.1157 - accuracy: 0.9671\n",
      "Epoch 7/20\n",
      "91/91 [==============================] - 0s 1ms/step - loss: 0.1153 - accuracy: 0.9677\n",
      "Epoch 8/20\n",
      "91/91 [==============================] - 0s 1ms/step - loss: 0.1151 - accuracy: 0.9680\n",
      "Epoch 9/20\n",
      "91/91 [==============================] - 0s 1ms/step - loss: 0.1153 - accuracy: 0.9678\n",
      "Epoch 10/20\n",
      "91/91 [==============================] - 0s 2ms/step - loss: 0.1149 - accuracy: 0.9678\n",
      "Epoch 11/20\n",
      "91/91 [==============================] - 0s 1ms/step - loss: 0.1150 - accuracy: 0.9678\n",
      "Epoch 12/20\n",
      "91/91 [==============================] - 0s 1ms/step - loss: 0.1151 - accuracy: 0.9678\n",
      "Epoch 13/20\n",
      "91/91 [==============================] - 0s 1ms/step - loss: 0.1151 - accuracy: 0.9678\n",
      "Epoch 14/20\n",
      "91/91 [==============================] - 0s 2ms/step - loss: 0.1150 - accuracy: 0.9678\n",
      "Epoch 15/20\n",
      "91/91 [==============================] - 0s 1ms/step - loss: 0.1149 - accuracy: 0.9678\n",
      "Epoch 16/20\n",
      "91/91 [==============================] - 0s 1ms/step - loss: 0.1150 - accuracy: 0.9678\n",
      "Epoch 17/20\n",
      "91/91 [==============================] - 0s 1ms/step - loss: 0.1149 - accuracy: 0.9678\n",
      "Epoch 18/20\n",
      "91/91 [==============================] - 0s 2ms/step - loss: 0.1147 - accuracy: 0.9675\n",
      "Epoch 19/20\n",
      "91/91 [==============================] - 0s 2ms/step - loss: 0.1148 - accuracy: 0.9678\n",
      "Epoch 20/20\n",
      "91/91 [==============================] - 0s 1ms/step - loss: 0.1150 - accuracy: 0.9678\n"
     ]
    }
   ],
   "source": [
    "nn_model = nn.fit(X_train, y_train, epochs = 20, batch_size = 64, verbose = 1)"
   ]
  },
  {
   "cell_type": "code",
   "execution_count": 71,
   "id": "ba8babed",
   "metadata": {
    "scrolled": false
   },
   "outputs": [
    {
     "data": {
      "text/plain": [
       "<AxesSubplot:>"
      ]
     },
     "execution_count": 71,
     "metadata": {},
     "output_type": "execute_result"
    },
    {
     "data": {
      "image/png": "[encoded data removed]",
      "text/plain": [
       "<Figure size 720x504 with 1 Axes>"
      ]
     },
     "metadata": {
      "needs_background": "light"
     },
     "output_type": "display_data"
    }
   ],
   "source": [
    "sns.lineplot(data = nn_model.history['loss'], label = 'Train Loss')"
   ]
  },
  {
   "cell_type": "code",
   "execution_count": 87,
   "id": "cc9f8c67",
   "metadata": {
    "scrolled": false
   },
   "outputs": [
    {
     "name": "stdout",
     "output_type": "stream",
     "text": [
      "188/188 [==============================] - 0s 1ms/step\n"
     ]
    }
   ],
   "source": [
    "y_pred_prob = nn.model.predict(X_test)"
   ]
  },
  {
   "cell_type": "code",
   "execution_count": 102,
   "id": "1a9fb5a2",
   "metadata": {},
   "outputs": [
    {
     "name": "stdout",
     "output_type": "stream",
     "text": [
      "Mejor umbral: 0.2\n",
      "Mejor F1-score: 0.7053140096618358\n"
     ]
    }
   ],
   "source": [
    "thresholds = np.arange(0.1, 1.0, 0.1)\n",
    "\n",
    "best_threshold = None\n",
    "best_f1_score = 0.0\n",
    "\n",
    "for threshold in thresholds:\n",
    "    y_pr = (y_pred_prob > threshold).astype(int)\n",
    "    report = classification_report(y_test, y_pr, digits=4, output_dict=True)\n",
    "    f1_score_1 = report['1']['f1-score']\n",
    "    mean_f1_score = f1_score_1\n",
    "\n",
    "    if mean_f1_score > best_f1_score:\n",
    "        best_f1_score = mean_f1_score\n",
    "        best_threshold = threshold\n",
    "\n",
    "print('Mejor umbral:', best_threshold)\n",
    "print('Mejor F1-score:', best_f1_score)"
   ]
  },
  {
   "cell_type": "code",
   "execution_count": null,
   "id": "fe923462",
   "metadata": {},
   "outputs": [],
   "source": [
    "y_pred = (y_pred_prob > 0.2).astype(int)"
   ]
  },
  {
   "cell_type": "markdown",
   "id": "a1e1bc83",
   "metadata": {},
   "source": [
    "Es importante considerar que este modelo de red neuronal se ejecutó como un experimento. Se encontró que este modelo tenía el mismo rendimiento que los demás modelos, pero en este caso se realizó un pequeño experimento iterando para encontrar el umbral de probabilidad en las predicciones que proporcionaba un mayor recall para la clase 1. Este experimento arrojó un umbral de 0.2 que se aplicó y se logró un rendimiento más equilibrado para la clase 1. Aunque esto sacrificó algo de precisión, se logró aumentar considerablemente el recall y se logró equilibrar ambas métricas para la clase 1."
   ]
  },
  {
   "cell_type": "code",
   "execution_count": 96,
   "id": "df6651b1",
   "metadata": {},
   "outputs": [
    {
     "name": "stdout",
     "output_type": "stream",
     "text": [
      "Precisión en datos de prueba:  0.9594077524538346\n"
     ]
    }
   ],
   "source": [
    "print(\"Precisión en datos de prueba: \", accuracy_score(y_test, y_pred))"
   ]
  },
  {
   "cell_type": "code",
   "execution_count": 97,
   "id": "f70fd073",
   "metadata": {},
   "outputs": [
    {
     "name": "stdout",
     "output_type": "stream",
     "text": [
      "              precision    recall  f1-score   support\n",
      "\n",
      "           0     0.9807    0.9758    0.9782      5611\n",
      "           1     0.6822    0.7300    0.7053       400\n",
      "\n",
      "    accuracy                         0.9594      6011\n",
      "   macro avg     0.8314    0.8529    0.8418      6011\n",
      "weighted avg     0.9608    0.9594    0.9600      6011\n",
      "\n"
     ]
    }
   ],
   "source": [
    "print(classification_report(y_test, y_pred, digits=4))"
   ]
  },
  {
   "cell_type": "code",
   "execution_count": 98,
   "id": "7a834a8a",
   "metadata": {},
   "outputs": [],
   "source": [
    "confusion_mtx = confusion_matrix(y_true=y_test, y_pred=y_pred)"
   ]
  },
  {
   "cell_type": "code",
   "execution_count": 99,
   "id": "b30dedb7",
   "metadata": {},
   "outputs": [],
   "source": [
    "from sklearn.metrics import confusion_matrix"
   ]
  },
  {
   "cell_type": "code",
   "execution_count": 100,
   "id": "87b8b73e",
   "metadata": {
    "scrolled": false
   },
   "outputs": [
    {
     "data": {
      "image/png": "[encoded data removed]",
      "text/plain": [
       "<Figure size 720x504 with 2 Axes>"
      ]
     },
     "metadata": {},
     "output_type": "display_data"
    }
   ],
   "source": [
    "sns.heatmap(confusion_mtx, annot=True, fmt='d')\n",
    "plt.xlabel('Predicted Label')\n",
    "plt.ylabel('True Label')\n",
    "plt.show()"
   ]
  },
  {
   "cell_type": "code",
   "execution_count": null,
   "id": "823e6db8",
   "metadata": {},
   "outputs": [],
   "source": []
  }
 ],
 "metadata": {
  "kernelspec": {
   "display_name": "Python 3 (ipykernel)",
   "language": "python",
   "name": "python3"
  },
  "language_info": {
   "codemirror_mode": {
    "name": "ipython",
    "version": 3
   },
   "file_extension": ".py",
   "mimetype": "text/x-python",
   "name": "python",
   "nbconvert_exporter": "python",
   "pygments_lexer": "ipython3",
   "version": "3.9.12"
  }
 },
 "nbformat": 4,
 "nbformat_minor": 5
}
